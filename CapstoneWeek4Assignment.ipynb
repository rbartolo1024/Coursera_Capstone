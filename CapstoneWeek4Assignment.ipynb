{
 "cells": [
  {
   "cell_type": "markdown",
   "metadata": {},
   "source": [
    "# Week 4 Assignment\n",
    "\n",
    "## Opening A Restaurant In Austin, TX"
   ]
  },
  {
   "cell_type": "markdown",
   "metadata": {},
   "source": [
    "### Introduction"
   ]
  },
  {
   "cell_type": "markdown",
   "metadata": {},
   "source": [
    "According to Quicken Loans, Austin, TX has been one of the fastest growing cities in the United States. It has potential upside that has only recently been tapped. The laid back culture and entrepreneurial spirit make it a great place to start a new business. The food scene has been one of the benefactors with many restaurants garnering recognition from such prestigious organizations as the James Beard Foundation.\n",
    "\n",
    "As a burgeoning restaurateur it is imperative to locate the ideal location for a restaurant that not only guarantees foot traffic but also minimizes direct competition in order to optimize success (of course, the food needs to be good as well but that is out of the scope of this project). For example, in a city known for their barbecue, it would be difficult to standout in such a highly competitive market.\n",
    "\n",
    "By identifying hotspots around the city as well as examining the top restaurant choices stakeholders can tease out the prime location to open their restaurant as well as identify what type of restaurant to open."
   ]
  },
  {
   "cell_type": "markdown",
   "metadata": {},
   "source": [
    "### Data"
   ]
  },
  {
   "cell_type": "markdown",
   "metadata": {},
   "source": [
    "The data will come from the website \"unitedstateszipcode.org\" and the Foursquare API.\n",
    "\n",
    "The website \"unitedstateszipcode.org\" will be used to obtain the zip codes and coordinates for Austin neighborhoods. They offer a free, non-commercial zip code database that can be downloaded in a csv format. The data includes city, zip code, latitude, and longitude all of which will be useful in identifying the ideal location to open a new restaurant.\n",
    "\n",
    "The Foursquare API will be leveraged to obtain the most common venues for each neighborhood. The results will be analyzed to determine optimal opportunities to open a new restaurant including the ideal location and the type of restaurant that would encounter the least direct competition."
   ]
  }
 ],
 "metadata": {
  "kernelspec": {
   "display_name": "Python 3",
   "language": "python",
   "name": "python3"
  },
  "language_info": {
   "codemirror_mode": {
    "name": "ipython",
    "version": 3
   },
   "file_extension": ".py",
   "mimetype": "text/x-python",
   "name": "python",
   "nbconvert_exporter": "python",
   "pygments_lexer": "ipython3",
   "version": "3.8.5"
  }
 },
 "nbformat": 4,
 "nbformat_minor": 4
}
